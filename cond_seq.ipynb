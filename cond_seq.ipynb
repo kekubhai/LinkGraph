{
 "cells": [
  {
   "cell_type": "code",
   "execution_count": null,
   "id": "1f347caf",
   "metadata": {},
   "outputs": [],
   "source": []
  },
  {
   "cell_type": "code",
   "execution_count": 8,
   "id": "b46b4ea9",
   "metadata": {},
   "outputs": [],
   "source": [
    "from typing import TypedDict\n",
    "from langgraph.graph import Graph,StateGraph,START,END\n",
    "class AgentState(TypedDict):\n",
    "    number:int\n",
    "    operation:str\n",
    "    number2:int\n",
    "    finalNumber:int\n",
    "\n"
   ]
  },
  {
   "cell_type": "code",
   "execution_count": null,
   "id": "15e06af3",
   "metadata": {},
   "outputs": [],
   "source": []
  },
  {
   "cell_type": "code",
   "execution_count": 12,
   "id": "d82bdd38",
   "metadata": {},
   "outputs": [
    {
     "name": "stdout",
     "output_type": "stream",
     "text": [
      "hello\n"
     ]
    }
   ],
   "source": [
    "# This cell is intentionally left as a shell for further code additions.\n",
    "print(\"hello\")"
   ]
  },
  {
   "cell_type": "code",
   "execution_count": null,
   "id": "a73a4b6f",
   "metadata": {},
   "outputs": [],
   "source": [
    "def adder(state:AgentState)->AgentState:\n",
    "    \"\"\"this node adds the 2 numbers\"\"\"\n",
    "    state[\"finalNumber\"]=state[\"number\"]"
   ]
  }
 ],
 "metadata": {
  "kernelspec": {
   "display_name": "Python 3",
   "language": "python",
   "name": "python3"
  },
  "language_info": {
   "codemirror_mode": {
    "name": "ipython",
    "version": 3
   },
   "file_extension": ".py",
   "mimetype": "text/x-python",
   "name": "python",
   "nbconvert_exporter": "python",
   "pygments_lexer": "ipython3",
   "version": "3.13.0"
  }
 },
 "nbformat": 4,
 "nbformat_minor": 5
}
