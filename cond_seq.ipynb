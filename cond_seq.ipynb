{
 "cells": [
  {
   "cell_type": "code",
   "execution_count": null,
   "id": "1f347caf",
   "metadata": {},
   "outputs": [],
   "source": []
  },
  {
   "cell_type": "code",
   "execution_count": 2,
   "id": "b46b4ea9",
   "metadata": {},
   "outputs": [],
   "source": [
    "from typing import TypedDict\n",
    "from langgraph.graph import Graph,StateGraph,START,END\n",
    "class AgentState(TypedDict):\n",
    "    number:int\n",
    "    operation:str\n",
    "    number2:int\n",
    "    finalNumber:int\n",
    "\n"
   ]
  },
  {
   "cell_type": "code",
   "execution_count": null,
   "id": "15e06af3",
   "metadata": {},
   "outputs": [],
   "source": []
  },
  {
   "cell_type": "code",
   "execution_count": 3,
   "id": "d82bdd38",
   "metadata": {},
   "outputs": [
    {
     "name": "stdout",
     "output_type": "stream",
     "text": [
      "hello\n"
     ]
    }
   ],
   "source": [
    "# This cell is intentionally left as a shell for further code additions.\n",
    "print(\"hello\")"
   ]
  },
  {
   "cell_type": "code",
   "execution_count": 5,
   "id": "a73a4b6f",
   "metadata": {},
   "outputs": [],
   "source": [
    "def adder(state:AgentState)->AgentState:\n",
    "    \"\"\"this node adds the 2 numbers\"\"\"\n",
    "    state[\"finalNumber\"]=state[\"number1\"]+state[\"number2\"]\n",
    "    return state\n",
    "def subtractor(state:AgentState)->AgentState:\n",
    "    \"\"\"This node will subtract the 2 numbers\"\"\"\n",
    "    state[\"finalNumber\"]=state[\"number1\"]-state[\"number\"]\n",
    "    return state\n",
    "def decide_next_node(state:AgentState)->AgentState:\n",
    "    \"\"\"This node will decide which node to go with \"\"\"\"\"\n",
    "    if state[\"operation\"]==\"+\":\n",
    "        return adder(state)\n",
    "    elif state[\"operation\"]==\"-\":\n",
    "        return subtractor(state)\n",
    "    else:\n",
    "        print(\"Invalid error found\")\n",
    "    "
   ]
  },
  {
   "cell_type": "code",
   "execution_count": 7,
   "id": "c3b627c1",
   "metadata": {},
   "outputs": [
    {
     "ename": "ValueError",
     "evalue": "Found edge starting at unknown node 'add-node'",
     "output_type": "error",
     "traceback": [
      "\u001b[31m---------------------------------------------------------------------------\u001b[39m",
      "\u001b[31mValueError\u001b[39m                                Traceback (most recent call last)",
      "\u001b[36mCell\u001b[39m\u001b[36m \u001b[39m\u001b[32mIn[7]\u001b[39m\u001b[32m, line 15\u001b[39m\n\u001b[32m     13\u001b[39m graph.add_edge(\u001b[33m\"\u001b[39m\u001b[33madd-node\u001b[39m\u001b[33m\"\u001b[39m,END)\n\u001b[32m     14\u001b[39m graph.add_edge(\u001b[33m\"\u001b[39m\u001b[33msubtract_node\u001b[39m\u001b[33m\"\u001b[39m,END)\n\u001b[32m---> \u001b[39m\u001b[32m15\u001b[39m app=\u001b[43mgraph\u001b[49m\u001b[43m.\u001b[49m\u001b[43mcompile\u001b[49m\u001b[43m(\u001b[49m\u001b[43m)\u001b[49m\n\u001b[32m     16\u001b[39m initial_state=AgentState(number1=\u001b[32m10\u001b[39m, operation=\u001b[33m\"\u001b[39m\u001b[33m-\u001b[39m\u001b[33m\"\u001b[39m,\n\u001b[32m     17\u001b[39m                          number2=\u001b[32m5\u001b[39m)\n\u001b[32m     18\u001b[39m \u001b[38;5;28mprint\u001b[39m(app.run(initial_state))\n",
      "\u001b[36mFile \u001b[39m\u001b[32mc:\\Users\\anirb\\AppData\\Local\\Programs\\Python\\Python313\\Lib\\site-packages\\langgraph\\graph\\state.py:612\u001b[39m, in \u001b[36mStateGraph.compile\u001b[39m\u001b[34m(self, checkpointer, cache, store, interrupt_before, interrupt_after, debug, name)\u001b[39m\n\u001b[32m    609\u001b[39m interrupt_after = interrupt_after \u001b[38;5;129;01mor\u001b[39;00m []\n\u001b[32m    611\u001b[39m \u001b[38;5;66;03m# validate the graph\u001b[39;00m\n\u001b[32m--> \u001b[39m\u001b[32m612\u001b[39m \u001b[38;5;28;43mself\u001b[39;49m\u001b[43m.\u001b[49m\u001b[43mvalidate\u001b[49m\u001b[43m(\u001b[49m\n\u001b[32m    613\u001b[39m \u001b[43m    \u001b[49m\u001b[43minterrupt\u001b[49m\u001b[43m=\u001b[49m\u001b[43m(\u001b[49m\n\u001b[32m    614\u001b[39m \u001b[43m        \u001b[49m\u001b[43m(\u001b[49m\u001b[43minterrupt_before\u001b[49m\u001b[43m \u001b[49m\u001b[38;5;28;43;01mif\u001b[39;49;00m\u001b[43m \u001b[49m\u001b[43minterrupt_before\u001b[49m\u001b[43m \u001b[49m\u001b[43m!=\u001b[49m\u001b[43m \u001b[49m\u001b[33;43m\"\u001b[39;49m\u001b[33;43m*\u001b[39;49m\u001b[33;43m\"\u001b[39;49m\u001b[43m \u001b[49m\u001b[38;5;28;43;01melse\u001b[39;49;00m\u001b[43m \u001b[49m\u001b[43m[\u001b[49m\u001b[43m]\u001b[49m\u001b[43m)\u001b[49m\u001b[43m \u001b[49m\u001b[43m+\u001b[49m\u001b[43m \u001b[49m\u001b[43minterrupt_after\u001b[49m\n\u001b[32m    615\u001b[39m \u001b[43m        \u001b[49m\u001b[38;5;28;43;01mif\u001b[39;49;00m\u001b[43m \u001b[49m\u001b[43minterrupt_after\u001b[49m\u001b[43m \u001b[49m\u001b[43m!=\u001b[49m\u001b[43m \u001b[49m\u001b[33;43m\"\u001b[39;49m\u001b[33;43m*\u001b[39;49m\u001b[33;43m\"\u001b[39;49m\n\u001b[32m    616\u001b[39m \u001b[43m        \u001b[49m\u001b[38;5;28;43;01melse\u001b[39;49;00m\u001b[43m \u001b[49m\u001b[43m[\u001b[49m\u001b[43m]\u001b[49m\n\u001b[32m    617\u001b[39m \u001b[43m    \u001b[49m\u001b[43m)\u001b[49m\n\u001b[32m    618\u001b[39m \u001b[43m\u001b[49m\u001b[43m)\u001b[49m\n\u001b[32m    620\u001b[39m \u001b[38;5;66;03m# prepare output channels\u001b[39;00m\n\u001b[32m    621\u001b[39m output_channels = (\n\u001b[32m    622\u001b[39m     \u001b[33m\"\u001b[39m\u001b[33m__root__\u001b[39m\u001b[33m\"\u001b[39m\n\u001b[32m    623\u001b[39m     \u001b[38;5;28;01mif\u001b[39;00m \u001b[38;5;28mlen\u001b[39m(\u001b[38;5;28mself\u001b[39m.schemas[\u001b[38;5;28mself\u001b[39m.output]) == \u001b[32m1\u001b[39m\n\u001b[32m   (...)\u001b[39m\u001b[32m    629\u001b[39m     ]\n\u001b[32m    630\u001b[39m )\n",
      "\u001b[36mFile \u001b[39m\u001b[32mc:\\Users\\anirb\\AppData\\Local\\Programs\\Python\\Python313\\Lib\\site-packages\\langgraph\\graph\\graph.py:274\u001b[39m, in \u001b[36mGraph.validate\u001b[39m\u001b[34m(self, interrupt)\u001b[39m\n\u001b[32m    272\u001b[39m \u001b[38;5;28;01mfor\u001b[39;00m source \u001b[38;5;129;01min\u001b[39;00m all_sources:\n\u001b[32m    273\u001b[39m     \u001b[38;5;28;01mif\u001b[39;00m source \u001b[38;5;129;01mnot\u001b[39;00m \u001b[38;5;129;01min\u001b[39;00m \u001b[38;5;28mself\u001b[39m.nodes \u001b[38;5;129;01mand\u001b[39;00m source != START:\n\u001b[32m--> \u001b[39m\u001b[32m274\u001b[39m         \u001b[38;5;28;01mraise\u001b[39;00m \u001b[38;5;167;01mValueError\u001b[39;00m(\u001b[33mf\u001b[39m\u001b[33m\"\u001b[39m\u001b[33mFound edge starting at unknown node \u001b[39m\u001b[33m'\u001b[39m\u001b[38;5;132;01m{\u001b[39;00msource\u001b[38;5;132;01m}\u001b[39;00m\u001b[33m'\u001b[39m\u001b[33m\"\u001b[39m)\n\u001b[32m    276\u001b[39m \u001b[38;5;28;01mif\u001b[39;00m START \u001b[38;5;129;01mnot\u001b[39;00m \u001b[38;5;129;01min\u001b[39;00m all_sources:\n\u001b[32m    277\u001b[39m     \u001b[38;5;28;01mraise\u001b[39;00m \u001b[38;5;167;01mValueError\u001b[39;00m(\n\u001b[32m    278\u001b[39m         \u001b[33m\"\u001b[39m\u001b[33mGraph must have an entrypoint: add at least one edge from START to another node\u001b[39m\u001b[33m\"\u001b[39m\n\u001b[32m    279\u001b[39m     )\n",
      "\u001b[31mValueError\u001b[39m: Found edge starting at unknown node 'add-node'"
     ]
    }
   ],
   "source": [
    "graph=StateGraph(AgentState)\n",
    "graph.add_node(\"add_node\", adder)\n",
    "graph.add_node(\"subtract_node\", subtractor)\n",
    "graph.add_node(\"router\",lambda state:state)\n",
    "graph.add_edge(START, \"router\")\n",
    "graph.add_conditional_edges(\"router\",\n",
    "decide_next_node,\n",
    "{\n",
    "    \"addition_operation\":\"add_node\",\n",
    "    \"substraction_operation\":\"subtract_node\"\n",
    "    \n",
    "})\n",
    "graph.add_edge(\"add-node\",END)\n",
    "graph.add_edge(\"subtract_node\",END)\n",
    "app=graph.compile()\n",
    "initial_state=AgentState(number1=10, operation=\"-\",\n",
    "                         number2=5)\n",
    "print(app.run(initial_state))"
   ]
  },
  {
   "cell_type": "code",
   "execution_count": 10,
   "id": "efa80e5e",
   "metadata": {
    "vscode": {
     "languageId": "markdown"
    }
   },
   "outputs": [
    {
     "name": "stdout",
     "output_type": "stream",
     "text": [
      "{'number1': 10, 'number2': 5, 'operation': '-', 'finalNumber': 5}\n"
     ]
    }
   ],
   "source": [
    "# Update AgentState to use consistent keys: number1, number2, operation, finalNumber\n",
    "class AgentState(TypedDict):\n",
    "    number1: int\n",
    "    number2: int\n",
    "    operation: str\n",
    "    finalNumber: int\n",
    "\n",
    "def adder(state: AgentState) -> AgentState:\n",
    "    \"\"\"This node adds the 2 numbers\"\"\"\n",
    "    state[\"finalNumber\"] = state[\"number1\"] + state[\"number2\"]\n",
    "    return state\n",
    "\n",
    "def subtractor(state: AgentState) -> AgentState:\n",
    "    \"\"\"This node will subtract the 2 numbers\"\"\"\n",
    "    state[\"finalNumber\"] = state[\"number1\"] - state[\"number2\"]\n",
    "    return state\n",
    "\n",
    "def decide_next_node(state: AgentState) -> str:\n",
    "    \"\"\"This node will decide which node to go with\"\"\"\n",
    "    if state[\"operation\"] == \"+\":\n",
    "        return \"add_node\"\n",
    "    elif state[\"operation\"] == \"-\":\n",
    "        return \"subtract_node\"\n",
    "    else:\n",
    "        print(\"Invalid operation found\")\n",
    "        return END\n",
    "\n",
    "# Rebuild the graph with corrected node names and logic\n",
    "graph = StateGraph(AgentState)\n",
    "graph.add_node(\"add_node\", adder)\n",
    "graph.add_node(\"subtract_node\", subtractor)\n",
    "graph.add_node(\"router\", lambda state: state)\n",
    "graph.add_edge(START, \"router\")\n",
    "graph.add_conditional_edges(\n",
    "    \"router\",\n",
    "    decide_next_node,\n",
    "    {\n",
    "        \"add_node\": \"add_node\",\n",
    "        \"subtract_node\": \"subtract_node\",\n",
    "        END: END\n",
    "    }\n",
    ")\n",
    "graph.add_edge(\"add_node\", END)\n",
    "graph.add_edge(\"subtract_node\", END)\n",
    "app = graph.compile()\n",
    "\n",
    "# Example initial state\n",
    "initial_state = AgentState(number1=10, number2=5, operation=\"-\")\n",
    "print(app.invoke(initial_state))"
   ]
  }
 ],
 "metadata": {
  "kernelspec": {
   "display_name": "Python 3",
   "language": "python",
   "name": "python3"
  },
  "language_info": {
   "codemirror_mode": {
    "name": "ipython",
    "version": 3
   },
   "file_extension": ".py",
   "mimetype": "text/x-python",
   "name": "python",
   "nbconvert_exporter": "python",
   "pygments_lexer": "ipython3",
   "version": "3.13.0"
  }
 },
 "nbformat": 4,
 "nbformat_minor": 5
}
