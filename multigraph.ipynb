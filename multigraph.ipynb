{
 "cells": [
  {
   "cell_type": "code",
   "execution_count": 7,
   "id": "7e3aaf85",
   "metadata": {},
   "outputs": [],
   "source": [
    "from typing import TypedDict, Dict, List, Tuple, Optional, Union\n",
    "from langgraph.graph import StateGraph\n",
    "\n"
   ]
  },
  {
   "cell_type": "code",
   "execution_count": 8,
   "id": "cb9dd868",
   "metadata": {},
   "outputs": [],
   "source": [
    "class AgentState(TypedDict):\n",
    "    values:List[int]\n",
    "    name:str\n",
    "    result:str"
   ]
  },
  {
   "cell_type": "code",
   "execution_count": 14,
   "id": "bf152d93",
   "metadata": {},
   "outputs": [],
   "source": [
    "def process_values(state:AgentState)->AgentState:\n",
    "    \"\"\"This function handles multiple different inputs and processes them.\"\"\"\n",
    "    state[\"result\"]=f\"Hi there {state['name']}, I have processed your values: {state['values']}, Your Sum is :{sum(state[\"values\"])}\"\n",
    "    return state"
   ]
  },
  {
   "cell_type": "code",
   "execution_count": 15,
   "id": "e3ef227b",
   "metadata": {},
   "outputs": [],
   "source": [
    "graph=StateGraph(AgentState)\n",
    "graph.add_node(\"processor\",process_values )\n",
    "graph.set_entry_point(\"processor\")\n",
    "graph.set_finish_point(\"processor\")\n",
    "\n",
    "app=graph.compile()"
   ]
  },
  {
   "cell_type": "code",
   "execution_count": 16,
   "id": "f38fa692",
   "metadata": {},
   "outputs": [
    {
     "name": "stdout",
     "output_type": "stream",
     "text": [
      "{'values': [1, 2, 3, 4, 5], 'name': 'Alice', 'result': 'Hi there Alice, I have processed your values: [1, 2, 3, 4, 5], Your Sum is :15'}\n"
     ]
    }
   ],
   "source": [
    "answers=app.invoke({\"values\":[1,2,3,4,5], \"name\":\"Alice\", \"result\":\"\"})\n",
    "print(answers)"
   ]
  }
 ],
 "metadata": {
  "kernelspec": {
   "display_name": "Python 3",
   "language": "python",
   "name": "python3"
  },
  "language_info": {
   "codemirror_mode": {
    "name": "ipython",
    "version": 3
   },
   "file_extension": ".py",
   "mimetype": "text/x-python",
   "name": "python",
   "nbconvert_exporter": "python",
   "pygments_lexer": "ipython3",
   "version": "3.13.0"
  }
 },
 "nbformat": 4,
 "nbformat_minor": 5
}
