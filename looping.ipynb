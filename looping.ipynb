{
 "cells": [
  {
   "cell_type": "code",
   "execution_count": 5,
   "id": "d1721637",
   "metadata": {},
   "outputs": [],
   "source": [
    "from typing import List, Optional, Union ,TypedDict\n",
    "from langgraph.graph import StateGraph\n",
    "import random \n",
    "\n"
   ]
  },
  {
   "cell_type": "code",
   "execution_count": 6,
   "id": "e1ce068d",
   "metadata": {},
   "outputs": [],
   "source": [
    "class AgentState(TypedDict):\n",
    "    name:str\n",
    "    number:List[int]\n",
    "    counter:int"
   ]
  },
  {
   "cell_type": "code",
   "execution_count": 7,
   "id": "c7f1958b",
   "metadata": {},
   "outputs": [],
   "source": [
    "def greeting_node(state:AgentState)->AgentState:\n",
    "    state[\"name\"]=f\"Hi There, {state[\"name\"]}\"\n",
    "    state[\"counter\"]=0\n",
    "    return state\n",
    "    \n",
    "def random_node(state:AgentState)->AgentState:\n",
    "    \n",
    "    state[\"number\"].append(random.randint(0,10)) \n",
    "    state[\"counter\"]+=1\n",
    "    return state   \n",
    "def should_continue(state:AgentState)->AgentState:\n",
    "    if state[\"counter\"]<5:\n",
    "        print(\"EnterIng the loop\", state[\"counter\"])\n",
    "        return \"loop\"\n",
    "    else:\n",
    "        return \"exit\"\n",
    "           "
   ]
  },
  {
   "cell_type": "markdown",
   "id": "76fadc1b",
   "metadata": {},
   "source": []
  },
  {
   "cell_type": "code",
   "execution_count": 8,
   "id": "c5467d1b",
   "metadata": {},
   "outputs": [
    {
     "ename": "NameError",
     "evalue": "name 'END' is not defined",
     "output_type": "error",
     "traceback": [
      "\u001b[31m---------------------------------------------------------------------------\u001b[39m",
      "\u001b[31mNameError\u001b[39m                                 Traceback (most recent call last)",
      "\u001b[36mCell\u001b[39m\u001b[36m \u001b[39m\u001b[32mIn[8]\u001b[39m\u001b[32m, line 12\u001b[39m\n\u001b[32m      3\u001b[39m graph.add_node(\u001b[33m\"\u001b[39m\u001b[33mrandom\u001b[39m\u001b[33m\"\u001b[39m, random_node)\n\u001b[32m      4\u001b[39m graph.add_edge(\u001b[33m\"\u001b[39m\u001b[33mgreeting\u001b[39m\u001b[33m\"\u001b[39m, \u001b[33m\"\u001b[39m\u001b[33mrandom\u001b[39m\u001b[33m\"\u001b[39m)\n\u001b[32m      6\u001b[39m graph.add_conditional_edges(\n\u001b[32m      7\u001b[39m     \u001b[33m\"\u001b[39m\u001b[33mrandom\u001b[39m\u001b[33m\"\u001b[39m,\n\u001b[32m      8\u001b[39m     should_continue,\n\u001b[32m      9\u001b[39m \n\u001b[32m     10\u001b[39m {\n\u001b[32m     11\u001b[39m     \u001b[33m\"\u001b[39m\u001b[33mloop\u001b[39m\u001b[33m\"\u001b[39m:\u001b[33m\"\u001b[39m\u001b[33mrandom\u001b[39m\u001b[33m\"\u001b[39m,\n\u001b[32m---> \u001b[39m\u001b[32m12\u001b[39m     \u001b[33m\"\u001b[39m\u001b[33mexit\u001b[39m\u001b[33m\"\u001b[39m:\u001b[43mEND\u001b[49m,\n\u001b[32m     13\u001b[39m })\n\u001b[32m     14\u001b[39m graph.set_entry_point(\u001b[33m\"\u001b[39m\u001b[33mgreeting\u001b[39m\u001b[33m\"\u001b[39m)\n\u001b[32m     15\u001b[39m app=graph.compile()\n",
      "\u001b[31mNameError\u001b[39m: name 'END' is not defined"
     ]
    }
   ],
   "source": [
    "graph=StateGraph(AgentState)\n",
    "graph.add_node(\"greeting\", greeting_node)\n",
    "graph.add_node(\"random\", random_node)\n",
    "graph.add_edge(\"greeting\", \"random\")\n",
    "\n",
    "graph.add_conditional_edges(\n",
    "    \"random\",\n",
    "    should_continue,\n",
    "\n",
    "{\n",
    "    \"loop\":\"random\",\n",
    "    \"exit\":END,\n",
    "})\n",
    "graph.set_entry_point(\"greeting\")\n",
    "app=graph.compile()\n"
   ]
  },
  {
   "cell_type": "code",
   "execution_count": 9,
   "id": "5bd59b3f",
   "metadata": {},
   "outputs": [],
   "source": [
    "from langgraph.graph import END\n",
    "\n",
    "def should_continue(state: AgentState) -> str:\n",
    "    if state[\"counter\"] < 5:\n",
    "        print(\"EnterIng the loop\", state[\"counter\"])\n",
    "        return \"loop\"\n",
    "    else:\n",
    "        return \"exit\"\n",
    "\n",
    "graph = StateGraph(AgentState)\n",
    "graph.add_node(\"greeting\", greeting_node)\n",
    "graph.add_node(\"random\", random_node)\n",
    "graph.add_edge(\"greeting\", \"random\")\n",
    "\n",
    "graph.add_conditional_edges(\n",
    "    \"random\",\n",
    "    should_continue,\n",
    "    {\n",
    "        \"loop\": \"random\",\n",
    "        \"exit\": END,\n",
    "    }\n",
    ")\n",
    "graph.set_entry_point(\"greeting\")\n",
    "app = graph.compile()"
   ]
  }
 ],
 "metadata": {
  "kernelspec": {
   "display_name": "Python 3",
   "language": "python",
   "name": "python3"
  },
  "language_info": {
   "codemirror_mode": {
    "name": "ipython",
    "version": 3
   },
   "file_extension": ".py",
   "mimetype": "text/x-python",
   "name": "python",
   "nbconvert_exporter": "python",
   "pygments_lexer": "ipython3",
   "version": "3.13.0"
  }
 },
 "nbformat": 4,
 "nbformat_minor": 5
}
