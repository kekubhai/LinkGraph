{
 "cells": [
  {
   "cell_type": "code",
   "execution_count": null,
   "id": "e753b33d",
   "metadata": {},
   "outputs": [
    {
     "ename": "ModuleNotFoundError",
     "evalue": "No module named 'langgraph'",
     "output_type": "error",
     "traceback": [
      "\u001b[31m---------------------------------------------------------------------------\u001b[39m",
      "\u001b[31mModuleNotFoundError\u001b[39m                       Traceback (most recent call last)",
      "\u001b[36mCell\u001b[39m\u001b[36m \u001b[39m\u001b[32mIn[1]\u001b[39m\u001b[32m, line 2\u001b[39m\n\u001b[32m      1\u001b[39m \u001b[38;5;28;01mfrom\u001b[39;00m\u001b[38;5;250m \u001b[39m\u001b[34;01mtyping\u001b[39;00m\u001b[38;5;250m \u001b[39m\u001b[38;5;28;01mimport\u001b[39;00m Dict ,TypedDict\n\u001b[32m----> \u001b[39m\u001b[32m2\u001b[39m \u001b[38;5;28;01mfrom\u001b[39;00m\u001b[38;5;250m \u001b[39m\u001b[34;01mlanggraph\u001b[39;00m\u001b[34;01m.\u001b[39;00m\u001b[34;01mgraph\u001b[39;00m\u001b[38;5;250m \u001b[39m\u001b[38;5;28;01mimport\u001b[39;00m Graph, State, Transition\n",
      "\u001b[31mModuleNotFoundError\u001b[39m: No module named 'langgraph'"
     ]
    }
   ],
   "source": [
    "from typing import Dict ,TypedDict\n",
    "\n",
    "\n"
   ]
  },
  {
   "cell_type": "code",
   "execution_count": 2,
   "id": "d3532d3a",
   "metadata": {},
   "outputs": [
    {
     "name": "stdout",
     "output_type": "stream",
     "text": [
      "Collecting langgraph\n",
      "  Using cached langgraph-0.4.8-py3-none-any.whl.metadata (6.8 kB)\n",
      "Collecting langchain-core>=0.1 (from langgraph)\n",
      "  Using cached langchain_core-0.3.66-py3-none-any.whl.metadata (5.8 kB)\n",
      "Collecting langgraph-checkpoint>=2.0.26 (from langgraph)\n",
      "  Using cached langgraph_checkpoint-2.1.0-py3-none-any.whl.metadata (4.2 kB)\n",
      "Collecting langgraph-prebuilt>=0.2.0 (from langgraph)\n",
      "  Using cached langgraph_prebuilt-0.2.2-py3-none-any.whl.metadata (4.5 kB)\n",
      "Collecting langgraph-sdk>=0.1.42 (from langgraph)\n",
      "  Using cached langgraph_sdk-0.1.70-py3-none-any.whl.metadata (1.5 kB)\n",
      "Requirement already satisfied: pydantic>=2.7.4 in c:\\users\\anirb\\appdata\\local\\programs\\python\\python313\\lib\\site-packages (from langgraph) (2.11.3)\n",
      "Collecting xxhash>=3.5.0 (from langgraph)\n",
      "  Using cached xxhash-3.5.0-cp313-cp313-win_amd64.whl.metadata (13 kB)\n",
      "Collecting langsmith>=0.3.45 (from langchain-core>=0.1->langgraph)\n",
      "  Using cached langsmith-0.4.1-py3-none-any.whl.metadata (15 kB)\n",
      "Requirement already satisfied: tenacity!=8.4.0,<10.0.0,>=8.1.0 in c:\\users\\anirb\\appdata\\local\\programs\\python\\python313\\lib\\site-packages (from langchain-core>=0.1->langgraph) (9.1.2)\n",
      "Collecting jsonpatch<2.0,>=1.33 (from langchain-core>=0.1->langgraph)\n",
      "  Using cached jsonpatch-1.33-py2.py3-none-any.whl.metadata (3.0 kB)\n",
      "Requirement already satisfied: PyYAML>=5.3 in c:\\users\\anirb\\appdata\\local\\programs\\python\\python313\\lib\\site-packages (from langchain-core>=0.1->langgraph) (6.0.2)\n",
      "Requirement already satisfied: packaging<25,>=23.2 in c:\\users\\anirb\\appdata\\local\\programs\\python\\python313\\lib\\site-packages (from langchain-core>=0.1->langgraph) (24.2)\n",
      "Requirement already satisfied: typing-extensions>=4.7 in c:\\users\\anirb\\appdata\\local\\programs\\python\\python313\\lib\\site-packages (from langchain-core>=0.1->langgraph) (4.13.2)\n",
      "Collecting jsonpointer>=1.9 (from jsonpatch<2.0,>=1.33->langchain-core>=0.1->langgraph)\n",
      "  Using cached jsonpointer-3.0.0-py2.py3-none-any.whl.metadata (2.3 kB)\n",
      "Collecting ormsgpack>=1.10.0 (from langgraph-checkpoint>=2.0.26->langgraph)\n",
      "  Using cached ormsgpack-1.10.0-cp313-cp313-win_amd64.whl.metadata (44 kB)\n",
      "Requirement already satisfied: httpx>=0.25.2 in c:\\users\\anirb\\appdata\\local\\programs\\python\\python313\\lib\\site-packages (from langgraph-sdk>=0.1.42->langgraph) (0.28.1)\n",
      "Collecting orjson>=3.10.1 (from langgraph-sdk>=0.1.42->langgraph)\n",
      "  Using cached orjson-3.10.18-cp313-cp313-win_amd64.whl.metadata (43 kB)\n",
      "Requirement already satisfied: anyio in c:\\users\\anirb\\appdata\\local\\programs\\python\\python313\\lib\\site-packages (from httpx>=0.25.2->langgraph-sdk>=0.1.42->langgraph) (4.9.0)\n",
      "Requirement already satisfied: certifi in c:\\users\\anirb\\appdata\\local\\programs\\python\\python313\\lib\\site-packages (from httpx>=0.25.2->langgraph-sdk>=0.1.42->langgraph) (2025.4.26)\n",
      "Requirement already satisfied: httpcore==1.* in c:\\users\\anirb\\appdata\\local\\programs\\python\\python313\\lib\\site-packages (from httpx>=0.25.2->langgraph-sdk>=0.1.42->langgraph) (1.0.9)\n",
      "Requirement already satisfied: idna in c:\\users\\anirb\\appdata\\local\\programs\\python\\python313\\lib\\site-packages (from httpx>=0.25.2->langgraph-sdk>=0.1.42->langgraph) (3.10)\n",
      "Requirement already satisfied: h11>=0.16 in c:\\users\\anirb\\appdata\\local\\programs\\python\\python313\\lib\\site-packages (from httpcore==1.*->httpx>=0.25.2->langgraph-sdk>=0.1.42->langgraph) (0.16.0)\n",
      "Requirement already satisfied: requests<3,>=2 in c:\\users\\anirb\\appdata\\local\\programs\\python\\python313\\lib\\site-packages (from langsmith>=0.3.45->langchain-core>=0.1->langgraph) (2.32.3)\n",
      "Collecting requests-toolbelt<2.0.0,>=1.0.0 (from langsmith>=0.3.45->langchain-core>=0.1->langgraph)\n",
      "  Using cached requests_toolbelt-1.0.0-py2.py3-none-any.whl.metadata (14 kB)\n",
      "Collecting zstandard<0.24.0,>=0.23.0 (from langsmith>=0.3.45->langchain-core>=0.1->langgraph)\n",
      "  Using cached zstandard-0.23.0-cp313-cp313-win_amd64.whl.metadata (3.0 kB)\n",
      "Requirement already satisfied: annotated-types>=0.6.0 in c:\\users\\anirb\\appdata\\local\\programs\\python\\python313\\lib\\site-packages (from pydantic>=2.7.4->langgraph) (0.7.0)\n",
      "Requirement already satisfied: pydantic-core==2.33.1 in c:\\users\\anirb\\appdata\\local\\programs\\python\\python313\\lib\\site-packages (from pydantic>=2.7.4->langgraph) (2.33.1)\n",
      "Requirement already satisfied: typing-inspection>=0.4.0 in c:\\users\\anirb\\appdata\\local\\programs\\python\\python313\\lib\\site-packages (from pydantic>=2.7.4->langgraph) (0.4.0)\n",
      "Requirement already satisfied: charset-normalizer<4,>=2 in c:\\users\\anirb\\appdata\\local\\programs\\python\\python313\\lib\\site-packages (from requests<3,>=2->langsmith>=0.3.45->langchain-core>=0.1->langgraph) (3.4.1)\n",
      "Requirement already satisfied: urllib3<3,>=1.21.1 in c:\\users\\anirb\\appdata\\local\\programs\\python\\python313\\lib\\site-packages (from requests<3,>=2->langsmith>=0.3.45->langchain-core>=0.1->langgraph) (2.4.0)\n",
      "Requirement already satisfied: sniffio>=1.1 in c:\\users\\anirb\\appdata\\local\\programs\\python\\python313\\lib\\site-packages (from anyio->httpx>=0.25.2->langgraph-sdk>=0.1.42->langgraph) (1.3.1)\n",
      "Using cached langgraph-0.4.8-py3-none-any.whl (152 kB)\n",
      "Using cached langchain_core-0.3.66-py3-none-any.whl (438 kB)\n",
      "Using cached jsonpatch-1.33-py2.py3-none-any.whl (12 kB)\n",
      "Using cached jsonpointer-3.0.0-py2.py3-none-any.whl (7.6 kB)\n",
      "Using cached langgraph_checkpoint-2.1.0-py3-none-any.whl (43 kB)\n",
      "Using cached langgraph_prebuilt-0.2.2-py3-none-any.whl (23 kB)\n",
      "Using cached langgraph_sdk-0.1.70-py3-none-any.whl (49 kB)\n",
      "Using cached langsmith-0.4.1-py3-none-any.whl (364 kB)\n",
      "Using cached orjson-3.10.18-cp313-cp313-win_amd64.whl (134 kB)\n",
      "Using cached requests_toolbelt-1.0.0-py2.py3-none-any.whl (54 kB)\n",
      "Using cached zstandard-0.23.0-cp313-cp313-win_amd64.whl (495 kB)\n",
      "Using cached ormsgpack-1.10.0-cp313-cp313-win_amd64.whl (121 kB)\n",
      "Using cached xxhash-3.5.0-cp313-cp313-win_amd64.whl (30 kB)\n",
      "Installing collected packages: zstandard, xxhash, ormsgpack, orjson, jsonpointer, requests-toolbelt, jsonpatch, langsmith, langgraph-sdk, langchain-core, langgraph-checkpoint, langgraph-prebuilt, langgraph\n",
      "\n",
      "   ------------ ---------------------------  4/13 [jsonpointer]\n",
      "   --------------- ------------------------  5/13 [requests-toolbelt]\n",
      "   --------------------- ------------------  7/13 [langsmith]\n",
      "   --------------------- ------------------  7/13 [langsmith]\n",
      "   --------------------- ------------------  7/13 [langsmith]\n",
      "   --------------------- ------------------  7/13 [langsmith]\n",
      "   --------------------- ------------------  7/13 [langsmith]\n",
      "   ------------------------ ---------------  8/13 [langgraph-sdk]\n",
      "   --------------------------- ------------  9/13 [langchain-core]\n",
      "   --------------------------- ------------  9/13 [langchain-core]\n",
      "   --------------------------- ------------  9/13 [langchain-core]\n",
      "   --------------------------- ------------  9/13 [langchain-core]\n",
      "   --------------------------- ------------  9/13 [langchain-core]\n",
      "   --------------------------- ------------  9/13 [langchain-core]\n",
      "   --------------------------- ------------  9/13 [langchain-core]\n",
      "   --------------------------- ------------  9/13 [langchain-core]\n",
      "   --------------------------- ------------  9/13 [langchain-core]\n",
      "   --------------------------- ------------  9/13 [langchain-core]\n",
      "   --------------------------- ------------  9/13 [langchain-core]\n",
      "   --------------------------- ------------  9/13 [langchain-core]\n",
      "   ------------------------------ --------- 10/13 [langgraph-checkpoint]\n",
      "   ------------------------------------ --- 12/13 [langgraph]\n",
      "   ------------------------------------ --- 12/13 [langgraph]\n",
      "   ------------------------------------ --- 12/13 [langgraph]\n",
      "   ------------------------------------ --- 12/13 [langgraph]\n",
      "   ---------------------------------------- 13/13 [langgraph]\n",
      "\n",
      "Successfully installed jsonpatch-1.33 jsonpointer-3.0.0 langchain-core-0.3.66 langgraph-0.4.8 langgraph-checkpoint-2.1.0 langgraph-prebuilt-0.2.2 langgraph-sdk-0.1.70 langsmith-0.4.1 orjson-3.10.18 ormsgpack-1.10.0 requests-toolbelt-1.0.0 xxhash-3.5.0 zstandard-0.23.0\n"
     ]
    },
    {
     "name": "stderr",
     "output_type": "stream",
     "text": [
      "\n",
      "[notice] A new release of pip is available: 25.1 -> 25.1.1\n",
      "[notice] To update, run: python.exe -m pip install --upgrade pip\n"
     ]
    }
   ],
   "source": [
    "!pip install langgraph\n"
   ]
  },
  {
   "cell_type": "code",
   "execution_count": 3,
   "id": "4a60a371",
   "metadata": {},
   "outputs": [
    {
     "name": "stdout",
     "output_type": "stream",
     "text": [
      "LangGraph is ready to use!\n"
     ]
    }
   ],
   "source": [
    "import langgraph\n",
    "print(\"LangGraph is ready to use!\")\n"
   ]
  },
  {
   "cell_type": "code",
   "execution_count": 4,
   "id": "66b89533",
   "metadata": {},
   "outputs": [],
   "source": [
    "from langgraph.graph import StateGraph \n"
   ]
  },
  {
   "cell_type": "code",
   "execution_count": 5,
   "id": "48b0ebe0",
   "metadata": {},
   "outputs": [],
   "source": [
    "class AgentState(TypedDict):\n",
    "    message :str\n",
    "def greeting_node(state:AgentState)-> AgentState:\n",
    "    \"\"\" Simple node that adds a greeting message to the state\"\"\" \n",
    "    state['message']='Hey'+state[\"message\"] +\",How are you ?\"\n",
    "    return state"
   ]
  },
  {
   "cell_type": "code",
   "execution_count": null,
   "id": "164cb982",
   "metadata": {},
   "outputs": [],
   "source": []
  }
 ],
 "metadata": {
  "kernelspec": {
   "display_name": "Python 3",
   "language": "python",
   "name": "python3"
  },
  "language_info": {
   "codemirror_mode": {
    "name": "ipython",
    "version": 3
   },
   "file_extension": ".py",
   "mimetype": "text/x-python",
   "name": "python",
   "nbconvert_exporter": "python",
   "pygments_lexer": "ipython3",
   "version": "3.13.0"
  }
 },
 "nbformat": 4,
 "nbformat_minor": 5
}
